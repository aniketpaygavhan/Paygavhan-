{
 "cells": [
  {
   "cell_type": "markdown",
   "id": "db075481-a81a-47dd-802f-4f86d0907405",
   "metadata": {},
   "source": [
    "### Q.1.Find the length of given string(given by user)without using len()function"
   ]
  },
  {
   "cell_type": "code",
   "execution_count": 1,
   "id": "8e80dd95-149f-4043-9e64-7aaf19a130d3",
   "metadata": {},
   "outputs": [
    {
     "name": "stdin",
     "output_type": "stream",
     "text": [
      "Enter Your string abhi\n"
     ]
    },
    {
     "name": "stdout",
     "output_type": "stream",
     "text": [
      "Length of String is   4\n"
     ]
    }
   ],
   "source": [
    "inp=input(\"Enter Your string\")\n",
    "count = 0\n",
    "for i in inp:\n",
    "    count +=1\n",
    "print(\"Length of String is  \",count)\n"
   ]
  },
  {
   "cell_type": "markdown",
   "id": "9916e545-c5f2-4c5a-a8c7-43da7f821732",
   "metadata": {},
   "source": [
    "### Q.2.Extract userid from given mail i'd,eg if the mail is chetan24jagtap@gmail.com then user name should be \"chetan24jagtap\""
   ]
  },
  {
   "cell_type": "code",
   "execution_count": 16,
   "id": "d60aad25-7ac0-4b53-83ea-f87c5c2d4d5c",
   "metadata": {},
   "outputs": [
    {
     "name": "stdin",
     "output_type": "stream",
     "text": [
      "Enter Email id : abhaygaikwad2@gmail.com\n"
     ]
    },
    {
     "name": "stdout",
     "output_type": "stream",
     "text": [
      "abhaygaikwad2\n"
     ]
    }
   ],
   "source": [
    "str=input(\"Enter Email id :\")\n",
    "poss =str.index(\"@\")\n",
    "print(str[0:poss])"
   ]
  },
  {
   "cell_type": "markdown",
   "id": "1ab1914c-7b38-464d-9275-ac6309071c3f",
   "metadata": {},
   "source": [
    "### Q.3.Count the frequency of perticular character in provided string eg,\"hello how are you\" is the string , the freq of \"h\" in the string is 2 without using count () function"
   ]
  },
  {
   "cell_type": "code",
   "execution_count": 18,
   "id": "25e27bbf-99ba-44ad-a0e8-50acaea92fdf",
   "metadata": {},
   "outputs": [
    {
     "name": "stdin",
     "output_type": "stream",
     "text": [
      "Enter string : abhay\n",
      "what would you like to search : a\n"
     ]
    },
    {
     "name": "stdout",
     "output_type": "stream",
     "text": [
      "Frequency of your char is  1\n",
      "Frequency of your char is  2\n"
     ]
    }
   ],
   "source": [
    "inp =input(\"Enter string :\")\n",
    "term=input(\"what would you like to search :\")\n",
    "counter =0\n",
    "for i in inp:\n",
    "    if i == term:\n",
    "        counter +=1\n",
    "        print(\"Frequency of your char is \",counter)"
   ]
  },
  {
   "cell_type": "markdown",
   "id": "6fb1183f-abe4-49bc-992f-f87be7650287",
   "metadata": {},
   "source": [
    "### Q.4.Write a Program which can remove a particular character from string"
   ]
  },
  {
   "cell_type": "code",
   "execution_count": 20,
   "id": "f8e8fa0b-0560-4e2b-8891-48e071dee06d",
   "metadata": {},
   "outputs": [
    {
     "name": "stdin",
     "output_type": "stream",
     "text": [
      "enter a string : abhay\n",
      "what would you like to dilet a\n"
     ]
    },
    {
     "name": "stdout",
     "output_type": "stream",
     "text": [
      "\n",
      "b\n",
      "bh\n",
      "bh\n",
      "bhy\n"
     ]
    }
   ],
   "source": [
    "inp=input(\"enter a string :\")\n",
    "term=input(\"what would you like to dilet\")\n",
    "result=\"\"\n",
    "for i in inp:\n",
    "    if i != term:\n",
    "        result=result+i\n",
    "    print(result)\n"
   ]
  },
  {
   "cell_type": "markdown",
   "id": "e25f7d22-bf73-45ab-ad8d-04850a0644eb",
   "metadata": {},
   "source": [
    "### Q.5.Write a program that can check whether a given string is palindrome or not. {abba,malayalam}"
   ]
  },
  {
   "cell_type": "code",
   "execution_count": 8,
   "id": "47687cb2-62c4-4918-90f2-34c7a027e25e",
   "metadata": {},
   "outputs": [
    {
     "name": "stdin",
     "output_type": "stream",
     "text": [
      "Enter the string to check if it is a palindrome:  abba\n"
     ]
    },
    {
     "name": "stdout",
     "output_type": "stream",
     "text": [
      "The string is a palindrome.\n"
     ]
    }
   ],
   "source": [
    "str_1 = input (\"Enter the string to check if it is a palindrome: \")\n",
    "str_1 = str_1.casefold ()\n",
    "rev_str = reversed(str_1)\n",
    "if list(str_1) ==  list(rev_str):\n",
    "    print (\"The string is a palindrome.\")\n",
    "else:\n",
    "    print (\"The string is not a palindrome.\")"
   ]
  },
  {
   "cell_type": "markdown",
   "id": "1f3fe940-fbe1-480f-ae65-26ad19bac149",
   "metadata": {},
   "source": [
    "### Q.6.Write a program to count the number of words in a string without split()"
   ]
  },
  {
   "cell_type": "code",
   "execution_count": 10,
   "id": "fba621ae-5a52-4cf3-ae9e-3edb02730788",
   "metadata": {},
   "outputs": [
    {
     "name": "stdin",
     "output_type": "stream",
     "text": [
      "Enter Your string saurabh\n"
     ]
    },
    {
     "name": "stdout",
     "output_type": "stream",
     "text": [
      "Length of String is   7\n"
     ]
    }
   ],
   "source": [
    "inp=input(\"Enter Your string\")\n",
    "count = 0\n",
    "for i in inp:\n",
    "    count +=1\n",
    "print(\"Length of String is  \",count)\n"
   ]
  },
  {
   "cell_type": "markdown",
   "id": "277519b2-b360-49a9-80eb-382013890de7",
   "metadata": {},
   "source": [
    "### Q.7.Write a python program to convert a string to title case without using the title()"
   ]
  },
  {
   "cell_type": "code",
   "execution_count": 15,
   "id": "d32803df-852b-4d54-adb5-73ad8b815200",
   "metadata": {},
   "outputs": [
    {
     "name": "stdin",
     "output_type": "stream",
     "text": [
      "Enter The Title here:- abahy\n"
     ]
    },
    {
     "name": "stdout",
     "output_type": "stream",
     "text": [
      "Abahy\n"
     ]
    }
   ],
   "source": [
    "inpt=input(\"Enter The Title here:-\")\n",
    "new=inpt.capitalize()\n",
    "print(new)\n"
   ]
  }
 ],
 "metadata": {
  "kernelspec": {
   "display_name": "Python 3 (ipykernel)",
   "language": "python",
   "name": "python3"
  },
  "language_info": {
   "codemirror_mode": {
    "name": "ipython",
    "version": 3
   },
   "file_extension": ".py",
   "mimetype": "text/x-python",
   "name": "python",
   "nbconvert_exporter": "python",
   "pygments_lexer": "ipython3",
   "version": "3.11.7"
  }
 },
 "nbformat": 4,
 "nbformat_minor": 5
}
